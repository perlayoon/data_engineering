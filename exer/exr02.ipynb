{
 "cells": [
  {
   "cell_type": "code",
   "execution_count": 4,
   "metadata": {},
   "outputs": [
    {
     "name": "stdout",
     "output_type": "stream",
     "text": [
      "말티푸 맞아요\n",
      "True\n"
     ]
    }
   ],
   "source": [
    "\"\"\"Conditional statements\"\"\"\n",
    "puppy = \"maltepoo\"\n",
    "is_yes = False\n",
    "if puppy == \"maltese\":\n",
    "    is_yes = True\n",
    "    print(\"말티즈 맞아요\")\n",
    "    if age < 3:\n",
    "        print(\"말티즈 새끼예요\")\n",
    "elif puppy == \"poodle\":\n",
    "    is_yes = True\n",
    "    print(\"푸들 맞아요\")\n",
    "else:\n",
    "    is_yes = True\n",
    "    print(\"말티푸 맞아요\")\n",
    "print(is_yes)"
   ]
  },
  {
   "cell_type": "code",
   "execution_count": 10,
   "metadata": {},
   "outputs": [
    {
     "name": "stdout",
     "output_type": "stream",
     "text": [
      "Error\n",
      "continue...\n"
     ]
    }
   ],
   "source": [
    "\"\"\"Exception Handling\"\"\"\n",
    "x = 1\n",
    "try:\n",
    "    print(y)\n",
    "    print(x)\n",
    "except:\n",
    "    print(\"Error\")\n",
    "print(\"continue...\")"
   ]
  },
  {
   "cell_type": "code",
   "execution_count": null,
   "metadata": {},
   "outputs": [],
   "source": []
  }
 ],
 "metadata": {
  "kernelspec": {
   "display_name": "Python 3",
   "language": "python",
   "name": "python3"
  },
  "language_info": {
   "codemirror_mode": {
    "name": "ipython",
    "version": 3
   },
   "file_extension": ".py",
   "mimetype": "text/x-python",
   "name": "python",
   "nbconvert_exporter": "python",
   "pygments_lexer": "ipython3",
   "version": "3.8.3"
  }
 },
 "nbformat": 4,
 "nbformat_minor": 4
}
