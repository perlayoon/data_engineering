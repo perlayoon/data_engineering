{
 "cells": [
  {
   "cell_type": "code",
   "execution_count": 1,
   "metadata": {},
   "outputs": [],
   "source": [
    "# pip install requests"
   ]
  },
  {
   "cell_type": "code",
   "execution_count": 2,
   "metadata": {},
   "outputs": [],
   "source": [
    "# pip install beautifulsoup4"
   ]
  },
  {
   "cell_type": "code",
   "execution_count": 4,
   "metadata": {},
   "outputs": [],
   "source": [
    "\"\"\"\n",
    "Exercise 1: Search '메타버스' news on Naver\n",
    "\"\"\"\n",
    "# HTTP Request\n",
    "import requests\n",
    "\n",
    "url = 'https://search.naver.com/search.naver?where=nexearch&sm=top_hty&fbm=0&ie=utf8&query=%EB%A9%94%ED%83%80%EB%B2%84%EC%8A%A4'\n",
    "res = requests.get(url)  # HTTP GET Request\n",
    "\n",
    "html_doc = res.text      # get texts from the HTML response result\n",
    "\n",
    "# print(html_doc)"
   ]
  },
  {
   "cell_type": "code",
   "execution_count": 7,
   "metadata": {},
   "outputs": [],
   "source": [
    "\"\"\"\n",
    "Use BeautifulSoup Parser\n",
    "\"\"\"\n",
    "\n",
    "from bs4 import BeautifulSoup\n",
    "# html, xml, lxml,\n",
    "# Create a parser\n",
    "soup = BeautifulSoup(html_doc, 'html.parser')\n",
    "# print(soup.prettify())  # structuring the tags"
   ]
  },
  {
   "cell_type": "code",
   "execution_count": 25,
   "metadata": {},
   "outputs": [],
   "source": [
    "# Search all the <a> tags\n",
    "\n",
    "# soup.find_all('a')"
   ]
  },
  {
   "cell_type": "code",
   "execution_count": 26,
   "metadata": {},
   "outputs": [],
   "source": [
    "# Extract news information\n",
    "\n",
    "news = soup.find_all(\"a\", {\"class\":\"news_tit\"})\n",
    "# print(news)"
   ]
  },
  {
   "cell_type": "code",
   "execution_count": 12,
   "metadata": {},
   "outputs": [
    {
     "data": {
      "text/plain": [
       "<a class=\"news_tit\" href=\"http://news.kmib.co.kr/article/view.asp?arcid=0924221544&amp;code=11151400&amp;cp=nv\" onclick=\"return goOtherCR(this, 'a=nws_all*a.tit&amp;r=1&amp;i=8800006F_000000000000000001489477&amp;g=005.0001489477&amp;u='+urlencode(this.href));\" target=\"_blank\" title=\"일상까지 파고 든 ‘메타버스’ 열풍… 대세인가 거품인가\">일상까지 파고 든 ‘<mark>메타버스</mark>’ 열풍… 대세인가 거품인가</a>"
      ]
     },
     "execution_count": 12,
     "metadata": {},
     "output_type": "execute_result"
    }
   ],
   "source": [
    "# First news\n",
    "news[0]"
   ]
  },
  {
   "cell_type": "code",
   "execution_count": 13,
   "metadata": {},
   "outputs": [
    {
     "data": {
      "text/plain": [
       "'http://news.kmib.co.kr/article/view.asp?arcid=0924221544&code=11151400&cp=nv'"
      ]
     },
     "execution_count": 13,
     "metadata": {},
     "output_type": "execute_result"
    }
   ],
   "source": [
    "# Get a url of the first news\n",
    "news[0].get('href')"
   ]
  },
  {
   "cell_type": "code",
   "execution_count": 14,
   "metadata": {},
   "outputs": [
    {
     "data": {
      "text/plain": [
       "'일상까지 파고 든 ‘메타버스’ 열풍… 대세인가 거품인가'"
      ]
     },
     "execution_count": 14,
     "metadata": {},
     "output_type": "execute_result"
    }
   ],
   "source": [
    "# Get a title\n",
    "news[0].get('title')"
   ]
  },
  {
   "cell_type": "code",
   "execution_count": 15,
   "metadata": {},
   "outputs": [
    {
     "data": {
      "text/plain": [
       "4"
      ]
     },
     "execution_count": 15,
     "metadata": {},
     "output_type": "execute_result"
    }
   ],
   "source": [
    "len(news)"
   ]
  },
  {
   "cell_type": "code",
   "execution_count": 16,
   "metadata": {},
   "outputs": [
    {
     "name": "stdout",
     "output_type": "stream",
     "text": [
      "일상까지 파고 든 ‘메타버스’ 열풍… 대세인가 거품인가\n",
      "“제페토 이디야커피서 풍경보며 호떡 한 입”…메타버스 뛰어드는 유통업계\n",
      "남양주시, 메타버스와 행정 접목 '글로벌 ESG 메타시티 서밋' 개최\n",
      "PCN, 현실반응형 AI 메타버스 기술개발 업무협약 체결\n"
     ]
    }
   ],
   "source": [
    "for i in range(len(news)):\n",
    "    print(news[i].get('title'))"
   ]
  },
  {
   "cell_type": "code",
   "execution_count": 17,
   "metadata": {},
   "outputs": [],
   "source": [
    "\"\"\"\n",
    "Exercise 2: Investing.com\n",
    "\"\"\"\n",
    "import requests\n",
    "url = 'https://www.investing.com/equities/tesla-motors'\n",
    "\n",
    "res = requests.get(url)\n",
    "html_doc = res.text"
   ]
  },
  {
   "cell_type": "code",
   "execution_count": 21,
   "metadata": {},
   "outputs": [],
   "source": [
    "from bs4 import BeautifulSoup\n",
    "soup = BeautifulSoup(html_doc, 'html.parser')\n",
    "# print(soup.prettify())  # structuring the tags"
   ]
  },
  {
   "cell_type": "code",
   "execution_count": 22,
   "metadata": {},
   "outputs": [
    {
     "name": "stdout",
     "output_type": "stream",
     "text": [
      "[<dt>Prev. Close</dt>, <dt>Day's Range</dt>, <dt>Revenue</dt>, <dt>Open</dt>, <dt>52 wk Range</dt>, <dt>EPS</dt>, <dt>Volume</dt>, <dt>Market Cap</dt>, <dt>Dividend (Yield)</dt>, <dt>Average Vol. (3m)</dt>, <dt>P/E Ratio</dt>, <dt>Beta</dt>, <dt>1-Year Change</dt>, <dt>Shares Outstanding</dt>, <dt>Next Earnings Date</dt>]\n"
     ]
    }
   ],
   "source": [
    "keys = soup.find_all('dt')\n",
    "print(keys)"
   ]
  },
  {
   "cell_type": "code",
   "execution_count": 23,
   "metadata": {},
   "outputs": [
    {
     "name": "stdout",
     "output_type": "stream",
     "text": [
      "[<span class=\"key-info_dd-numeric__2cYjc\"><span>1,014.97</span><span></span></span>, <span class=\"key-info_dd-numeric__2cYjc\"><span>950.51</span><span></span></span>, <span class=\"key-info_dd-numeric__2cYjc\"><span>1,021.64</span><span></span></span>, <span class=\"key-info_dd-numeric__2cYjc\"><span>46.85</span><span>B</span></span>, <span class=\"key-info_dd-numeric__2cYjc\"><span>1,000.4</span><span></span></span>, <span class=\"key-info_dd-numeric__2cYjc\"><span>539.49</span><span></span></span>, <span class=\"key-info_dd-numeric__2cYjc\"><span>1,243.49</span><span></span></span>, <span class=\"key-info_dd-numeric__2cYjc\"><span>3.08</span><span></span></span>, <span class=\"key-info_dd-numeric__2cYjc\"><span>26,909,196</span><span></span></span>, <span class=\"key-info_dd-numeric__2cYjc\"><span>1.02</span><span>T</span></span>, <span class=\"key-info_dd-numeric__2cYjc\"><span>25,221,878</span><span></span></span>, <span class=\"key-info_dd-numeric__2cYjc\"><span>327.42</span><span></span></span>, <span class=\"key-info_dd-numeric__2cYjc\"><span>2.05</span><span></span></span>, <span class=\"key-info_dd-numeric__2cYjc\"><span>68.44</span><span>%</span></span>, <span class=\"key-info_dd-numeric__2cYjc\"><span>1,006,419,424</span><span></span></span>]\n"
     ]
    }
   ],
   "source": [
    "vals = soup.find_all('span', {'class': 'key-info_dd-numeric__2cYjc'})\n",
    "print(vals)"
   ]
  },
  {
   "cell_type": "code",
   "execution_count": 24,
   "metadata": {},
   "outputs": [
    {
     "name": "stdout",
     "output_type": "stream",
     "text": [
      "Prev. Close = 1,014.97\n",
      "Day's Range = 950.51\n",
      "Revenue = 1,021.64\n",
      "Open = 46.85B\n",
      "52 wk Range = 1,000.4\n",
      "EPS = 539.49\n",
      "Volume = 1,243.49\n",
      "Market Cap = 3.08\n",
      "Dividend (Yield) = 26,909,196\n",
      "Average Vol. (3m) = 1.02T\n",
      "P/E Ratio = 25,221,878\n",
      "Beta = 327.42\n",
      "1-Year Change = 2.05\n",
      "Shares Outstanding = 68.44%\n",
      "Next Earnings Date = 1,006,419,424\n"
     ]
    }
   ],
   "source": [
    "for i in range(len(vals)):\n",
    "    print(keys[i].get_text(), '=', vals[i].get_text())"
   ]
  }
 ],
 "metadata": {
  "kernelspec": {
   "display_name": "Python 3",
   "language": "python",
   "name": "python3"
  },
  "language_info": {
   "codemirror_mode": {
    "name": "ipython",
    "version": 3
   },
   "file_extension": ".py",
   "mimetype": "text/x-python",
   "name": "python",
   "nbconvert_exporter": "python",
   "pygments_lexer": "ipython3",
   "version": "3.8.3"
  }
 },
 "nbformat": 4,
 "nbformat_minor": 4
}
