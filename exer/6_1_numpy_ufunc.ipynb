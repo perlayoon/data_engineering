{
 "cells": [
  {
   "cell_type": "code",
   "execution_count": 1,
   "metadata": {},
   "outputs": [],
   "source": [
    "import numpy as np"
   ]
  },
  {
   "cell_type": "code",
   "execution_count": 4,
   "metadata": {},
   "outputs": [
    {
     "name": "stdout",
     "output_type": "stream",
     "text": [
      "[7 1 3 5 1]\n"
     ]
    },
    {
     "data": {
      "text/plain": [
       "array([0.14285714, 1.        , 0.33333333, 0.2       , 1.        ])"
      ]
     },
     "execution_count": 4,
     "metadata": {},
     "output_type": "execute_result"
    }
   ],
   "source": [
    "\"\"\"\n",
    "Computing reciprocals in loops # 역수\n",
    "\"\"\"\n",
    "\n",
    "# Function for computing reciprocals using looping\n",
    "def compute_reciprocals(values):\n",
    "    output = np.empty(len(values))\n",
    "    for i in range(len(values)):\n",
    "        output[i] = 1.0 / values[i]\n",
    "    return output\n",
    "\n",
    "values = np.random.randint(1, 10, size=5) # input\n",
    "print(values)\n",
    "\n",
    "compute_reciprocals(values) # input의 역수"
   ]
  },
  {
   "cell_type": "code",
   "execution_count": 5,
   "metadata": {},
   "outputs": [
    {
     "name": "stdout",
     "output_type": "stream",
     "text": [
      "3.62 s ± 1.29 s per loop (mean ± std. dev. of 7 runs, 1 loop each)\n"
     ]
    }
   ],
   "source": [
    "\"\"\"\n",
    "Comparison: loop vs ufuncs(vectorized)\n",
    "\"\"\"\n",
    "\n",
    "big_array = np.random.randint(1, 100, size=1000000)\n",
    "\n",
    "# looping on a big array\n",
    "%timeit compute_reciprocals(big_array)"
   ]
  },
  {
   "cell_type": "code",
   "execution_count": 6,
   "metadata": {},
   "outputs": [
    {
     "name": "stdout",
     "output_type": "stream",
     "text": [
      "7.77 ms ± 1.06 ms per loop (mean ± std. dev. of 7 runs, 100 loops each)\n"
     ]
    }
   ],
   "source": [
    "# Vectorized operations\n",
    "%timeit 1 / big_array"
   ]
  },
  {
   "cell_type": "code",
   "execution_count": 15,
   "metadata": {},
   "outputs": [
    {
     "name": "stdout",
     "output_type": "stream",
     "text": [
      "[5 8 9 5 0] [0 1 7 6 9]\n",
      "[ 3  6  7  3 -2]\n",
      "[ 3  7 14  9  7]\n",
      "[[2 4 5 2 4]\n",
      " [2 4 7 7 9]\n",
      " [1 7 0 6 9]]\n",
      "[[ 4 16 25  4 16]\n",
      " [ 4 16 49 49 81]\n",
      " [ 1 49  0 36 81]]\n"
     ]
    }
   ],
   "source": [
    "\"\"\"\n",
    "numpy.ufunc\n",
    "\"\"\"\n",
    "np.random.seed(1) # random 값 고정\n",
    "arr1 = np.random.randint(10, size=5)\n",
    "arr2 = np.random.randint(10, size=5)\n",
    "print(arr1, arr2)\n",
    "\n",
    "arr1 = arr1 - 2\n",
    "print(arr1)\n",
    "\n",
    "arr3 = arr1 + arr2\n",
    "print(arr3)\n",
    "\n",
    "arr4 = np.random.randint(10, size=(3, 5))\n",
    "print(arr4)\n",
    "\n",
    "arr5 = arr4 ** 2\n",
    "print(arr5)"
   ]
  },
  {
   "cell_type": "code",
   "execution_count": 23,
   "metadata": {},
   "outputs": [
    {
     "name": "stdout",
     "output_type": "stream",
     "text": [
      "x     = [0 1 2 3]\n",
      "x + 5 = [5 6 7 8]\n",
      "x - 5 = [-5 -4 -3 -2]\n",
      "x * 2 = [0 2 4 6]\n",
      "x / 2 = [0.  0.5 1.  1.5]\n",
      "x ** 2 = [0 1 4 9]\n",
      "x + 5 = [5 6 7 8]\n",
      "x - 5 = [-5 -4 -3 -2]\n",
      "x * 2 = [0 2 4 6]\n",
      "x / 2 = [0.  0.5 1.  1.5]\n",
      "x ** 2 = [0 1 4 9]\n"
     ]
    }
   ],
   "source": [
    "\"\"\"\n",
    "UFuncs: Array Arithmetic # 산수\n",
    "\"\"\"\n",
    "\n",
    "# Basic arithmetic operations on an array\n",
    "x = np.arange(4)\n",
    "print(\"x     =\", x)\n",
    "print(\"x + 5 =\", x + 5)\n",
    "print(\"x - 5 =\", x - 5)\n",
    "print(\"x * 2 =\", x * 2)\n",
    "print(\"x / 2 =\", x / 2)\n",
    "print(\"x ** 2 =\", x ** 2)\n",
    "\n",
    "# 유니버셜\n",
    "print(\"x + 5 =\", np.add(x, 5))\n",
    "print(\"x - 5 =\", np.subtract(x, 5))\n",
    "print(\"x * 2 =\", np.multiply(x, 2))\n",
    "print(\"x / 2 =\", np.divide(x, 2))\n",
    "print(\"x ** 2 =\", np.power(x, 2))"
   ]
  },
  {
   "cell_type": "code",
   "execution_count": 21,
   "metadata": {},
   "outputs": [],
   "source": [
    "# Use UFuncs"
   ]
  },
  {
   "cell_type": "code",
   "execution_count": 24,
   "metadata": {},
   "outputs": [
    {
     "name": "stdout",
     "output_type": "stream",
     "text": [
      "[2 1 0 1 2]\n",
      "[5. 5. 2. 1.]\n"
     ]
    }
   ],
   "source": [
    "\"\"\"\n",
    "UFuncs: Absolute Value\n",
    "\"\"\"\n",
    "\n",
    "x = np.array([-2, -1, 0, 1, 2])\n",
    "print(np.abs(x))\n",
    "\n",
    "x = np.array([3-4j, 4-3j, 2-0j, 0-1j])\n",
    "print(np.abs(x))"
   ]
  },
  {
   "cell_type": "code",
   "execution_count": 30,
   "metadata": {},
   "outputs": [
    {
     "name": "stdout",
     "output_type": "stream",
     "text": [
      "[0.         1.57079633 3.14159265]\n",
      "[0.0000000e+00 1.0000000e+00 1.2246468e-16]\n",
      "[ 1.000000e+00  6.123234e-17 -1.000000e+00]\n",
      "[ 0.00000000e+00  1.63312394e+16 -1.22464680e-16]\n"
     ]
    }
   ],
   "source": [
    "\"\"\"\n",
    "UFuncs: Trigonometric Functions\n",
    "\"\"\"\n",
    "\n",
    "theta = np.linspace(0, np.pi, 3)\n",
    "print(theta)\n",
    "\n",
    "print(np.sin(theta))\n",
    "print(np.cos(theta))\n",
    "print(np.tan(theta))"
   ]
  },
  {
   "cell_type": "code",
   "execution_count": 32,
   "metadata": {},
   "outputs": [
    {
     "name": "stdout",
     "output_type": "stream",
     "text": [
      "[1 2 3 4]\n",
      "10\n",
      "24\n"
     ]
    }
   ],
   "source": [
    "\"\"\"\n",
    "UFuncs: Aggregation\n",
    "\"\"\"\n",
    "\n",
    "x = np.arange(1, 5)\n",
    "print(x)\n",
    "\n",
    "aggr = np.add.reduce(x)\n",
    "print(aggr)\n",
    "\n",
    "aggr = np.multiply.reduce(x)\n",
    "print(aggr)"
   ]
  },
  {
   "cell_type": "code",
   "execution_count": 35,
   "metadata": {},
   "outputs": [
    {
     "name": "stdout",
     "output_type": "stream",
     "text": [
      "[ 1  2  3  4  5  6  7  8  9 10 11 12 13 14]\n",
      "[  1   3   6  10  15  21  28  36  45  55  66  78  91 105]\n",
      "[         1          2          6         24        120        720\n",
      "       5040      40320     362880    3628800   39916800  479001600\n",
      " 1932053504 1278945280]\n"
     ]
    }
   ],
   "source": [
    "\"\"\"\n",
    "UFuncs: Accumulate\n",
    "\"\"\"\n",
    "\n",
    "x = np.arange(1, 15)\n",
    "print(x)\n",
    "\n",
    "accum = np.add.accumulate(x)\n",
    "print(accum)\n",
    "\n",
    "accum = np.multiply.accumulate(x)\n",
    "print(accum)"
   ]
  },
  {
   "cell_type": "code",
   "execution_count": 40,
   "metadata": {},
   "outputs": [
    {
     "name": "stdout",
     "output_type": "stream",
     "text": [
      "[0.4359949  0.02592623 0.54966248 ... 0.78483191 0.00778062 0.42442656]\n",
      "sum = 499468.5166853333\n",
      "247 ms ± 77.8 ms per loop (mean ± std. dev. of 7 runs, 1 loop each)\n",
      "2.37 ms ± 126 µs per loop (mean ± std. dev. of 7 runs, 100 loops each)\n"
     ]
    }
   ],
   "source": [
    "# Summing the values in an array\n",
    "\n",
    "np.random.seed(2)\n",
    "arr = np.random.rand(1000000) # rand(): create 0~1 real values\n",
    "\n",
    "print(arr)\n",
    "print(\"sum =\", np.sum(arr))\n",
    "\n",
    "%timeit sum(arr)\n",
    "%timeit np.sum(arr)"
   ]
  },
  {
   "cell_type": "code",
   "execution_count": 47,
   "metadata": {},
   "outputs": [
    {
     "name": "stdout",
     "output_type": "stream",
     "text": [
      "max = 0.9999976661165695\n",
      "min = 9.475783189216713e-07\n",
      "mean = 0.49946851668533326\n",
      "median = 0.49948650836352526\n",
      "percentile = 0.49948650836352526\n",
      "False\n",
      "True\n"
     ]
    }
   ],
   "source": [
    "# other Aggr.functions\n",
    "print(\"max =\", np.max(arr))\n",
    "print(\"min =\", np.min(arr))\n",
    "print(\"mean =\", np.mean(arr))\n",
    "print(\"median =\", np.median(arr))\n",
    "print(\"percentile =\", np.percentile(arr, 50))\n",
    "print(np.any(arr>1))\n",
    "print(np.all(arr>0))"
   ]
  },
  {
   "cell_type": "code",
   "execution_count": 49,
   "metadata": {},
   "outputs": [
    {
     "name": "stdout",
     "output_type": "stream",
     "text": [
      "[[3 6 6 0]\n",
      " [9 8 4 7]\n",
      " [0 0 7 1]]\n",
      "[12 14 17  8]\n",
      "[15 28  8]\n"
     ]
    }
   ],
   "source": [
    "# Multi dimensional aggregat es\n",
    "\n",
    "np.random.seed(5)\n",
    "arr = np.random.randint(10, size=(3, 4))\n",
    "print(arr)\n",
    "\n",
    "print(np.sum(arr, axis=0)) # row 세로 방향\n",
    "print(np.sum(arr, axis=1)) # column 가로 방향"
   ]
  },
  {
   "cell_type": "code",
   "execution_count": null,
   "metadata": {},
   "outputs": [],
   "source": []
  }
 ],
 "metadata": {
  "kernelspec": {
   "display_name": "Python 3",
   "language": "python",
   "name": "python3"
  },
  "language_info": {
   "codemirror_mode": {
    "name": "ipython",
    "version": 3
   },
   "file_extension": ".py",
   "mimetype": "text/x-python",
   "name": "python",
   "nbconvert_exporter": "python",
   "pygments_lexer": "ipython3",
   "version": "3.8.3"
  }
 },
 "nbformat": 4,
 "nbformat_minor": 4
}
