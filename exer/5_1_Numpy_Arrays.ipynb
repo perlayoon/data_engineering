{
 "cells": [
  {
   "cell_type": "code",
   "execution_count": 2,
   "metadata": {},
   "outputs": [],
   "source": [
    "import numpy as np\n",
    "import pandas as pd\n",
    "from matplotlib import pyplot as plt"
   ]
  },
  {
   "cell_type": "code",
   "execution_count": 7,
   "metadata": {},
   "outputs": [
    {
     "name": "stdout",
     "output_type": "stream",
     "text": [
      "[1 2 3 4]\n",
      "<class 'numpy.ndarray'>\n",
      "int32\n"
     ]
    }
   ],
   "source": [
    "# Creating a Numpy Array\n",
    "lst = [1, 2, 3, 4]\n",
    "\n",
    "arr = np.array(lst)\n",
    "print(arr)\n",
    "print(type(arr))\n",
    "print(arr.dtype)"
   ]
  },
  {
   "cell_type": "code",
   "execution_count": 18,
   "metadata": {},
   "outputs": [
    {
     "name": "stdout",
     "output_type": "stream",
     "text": [
      "float64\n"
     ]
    }
   ],
   "source": [
    "# dtype attribute\n",
    "\n",
    "arr = np.array([1.1, 1.2, 2.5])\n",
    "print(arr.dtype)"
   ]
  },
  {
   "cell_type": "code",
   "execution_count": 19,
   "metadata": {},
   "outputs": [
    {
     "name": "stdout",
     "output_type": "stream",
     "text": [
      "64\n",
      "108\n"
     ]
    }
   ],
   "source": [
    "\"\"\"\n",
    "Size Comparison of ndarray and list objects\n",
    "\"\"\"\n",
    "\n",
    "from sys import getsizeof\n",
    "lst = [1] # 56 -> 64\n",
    "print(getsizeof(lst))\n",
    "\n",
    "arr = np.array([1]) # 104 - > 108, int: 4bytes\n",
    "print(getsizeof(arr))"
   ]
  },
  {
   "cell_type": "code",
   "execution_count": 22,
   "metadata": {},
   "outputs": [
    {
     "name": "stdout",
     "output_type": "stream",
     "text": [
      "[25, 20, 35, 15, 15, 30, 45, 30]\n",
      "[25 20 35 15 15 30 45 30]\n"
     ]
    }
   ],
   "source": [
    "\"\"\"\n",
    "Operations with Numpy Arrays\n",
    "\"\"\"\n",
    "\n",
    "prices = [30, 25, 40, 20, 20, 35, 50, 35]\n",
    "price_arr = np.array(prices)\n",
    "\n",
    "# with a list\n",
    "new_prices = [price-5 for price in prices]\n",
    "print(new_prices)\n",
    "\n",
    "# with a ndarray\n",
    "price_arr -= 5\n",
    "print(price_arr)\n",
    "\n",
    "# ** operation and np.sqrt\n",
    "\n"
   ]
  },
  {
   "cell_type": "code",
   "execution_count": 39,
   "metadata": {},
   "outputs": [
    {
     "name": "stdout",
     "output_type": "stream",
     "text": [
      "[89 87 74 92 94]\n",
      "[260 281 248 276 272]\n",
      "[86.66666667 93.66666667 82.66666667 92.         90.66666667]\n",
      "[[ 92  94  88  91  87]\n",
      " [ 79 100  86  93  91]\n",
      " [ 89  87  74  92  94]]\n",
      "93\n",
      "[94 88]\n",
      "[87 91 94]\n"
     ]
    }
   ],
   "source": [
    "\"\"\"\n",
    "Exercise: Test Scores\n",
    "\"\"\"\n",
    "\n",
    "test_1 = np.array([92, 94, 88, 91, 87])\n",
    "test_2 = np.array([79, 100, 86, 93, 91])\n",
    "test_3 = np.array([87, 85, 72, 90, 92])\n",
    "\n",
    "test_3_fixed = test_3 + 2\n",
    "print(test_3_fixed)\n",
    "\n",
    "total_grade = test_1 + test_2 + test_3_fixed\n",
    "print(total_grade)\n",
    "\n",
    "final_grade = total_grade / 3\n",
    "print(final_grade)\n",
    "\n",
    "student_scores = np.array([test_1, test_2, test_3_fixed])\n",
    "print(student_scores)\n",
    "\n",
    "jeremy_test_2 = student_scores[1][3]\n",
    "print(jeremy_test_2)\n",
    "\n",
    "manual_adwoa_test_1 =np.array([student_scores[0][1], student_scores[0][2]])\n",
    "print(manual_adwoa_test_1)\n",
    "\n",
    "print(student_scores[:, 4]) # == [:, -1]"
   ]
  },
  {
   "cell_type": "code",
   "execution_count": 47,
   "metadata": {},
   "outputs": [
    {
     "name": "stdout",
     "output_type": "stream",
     "text": [
      "[ True False False False False False  True  True  True  True]\n",
      "[10  9  8  9  7]\n",
      "[10  2  2  3  9  8  9  7]\n",
      "[4 5 7]\n"
     ]
    }
   ],
   "source": [
    "\"\"\"\n",
    "Logical Operations with Arrays\n",
    "\"\"\"\n",
    "# masking\n",
    "a = np.array([10, 2, 2, 4, 5, 3, 9, 8, 9, 7])\n",
    "mask = a > 5\n",
    "print(mask)\n",
    "\n",
    "# select using Logical operations\n",
    "selected = a[a > 5]\n",
    "print(selected)\n",
    "\n",
    "# combined Logical operations\n",
    "selected = a[(a > 5) | (a < 4)] # 합집합\n",
    "print(selected)\n",
    "\n",
    "selected = a[(a > 3) & (a < 8)] # 교집합\n",
    "print(selected)"
   ]
  },
  {
   "cell_type": "code",
   "execution_count": 53,
   "metadata": {},
   "outputs": [
    {
     "name": "stdout",
     "output_type": "stream",
     "text": [
      "[50 56 51]\n",
      "[90 85 98]\n",
      "[79 65 63 79]\n"
     ]
    }
   ],
   "source": [
    "\"\"\"\n",
    "Exercise: Porridge\n",
    "\"\"\"\n",
    "\n",
    "porridge = np.array([79, 65, 50, 63, 56, 90, 85, 98, 79, 51])\n",
    "\n",
    "cold = porridge[porridge < 60]\n",
    "print(cold)\n",
    "\n",
    "hot = porridge[porridge > 80]\n",
    "print(hot)\n",
    "\n",
    "just_right = porridge[(porridge > 60) & (porridge < 80)]\n",
    "print(just_right)"
   ]
  },
  {
   "cell_type": "code",
   "execution_count": null,
   "metadata": {},
   "outputs": [],
   "source": []
  }
 ],
 "metadata": {
  "kernelspec": {
   "display_name": "Python 3",
   "language": "python",
   "name": "python3"
  },
  "language_info": {
   "codemirror_mode": {
    "name": "ipython",
    "version": 3
   },
   "file_extension": ".py",
   "mimetype": "text/x-python",
   "name": "python",
   "nbconvert_exporter": "python",
   "pygments_lexer": "ipython3",
   "version": "3.8.3"
  }
 },
 "nbformat": 4,
 "nbformat_minor": 4
}
